{
 "cells": [
  {
   "cell_type": "code",
   "execution_count": 10,
   "metadata": {},
   "outputs": [
    {
     "name": "stdout",
     "output_type": "stream",
     "text": [
      "원래 임베딩 벡터:\n",
      "[[ 1  2  3]\n",
      " [ 4  5  6]\n",
      " [ 7  8  9]\n",
      " [10 11 12]]\n",
      "\n",
      "RoPE 적용 후 회전된 임베딩 벡터:\n",
      "[[ 0  2  3]\n",
      " [ 2  5  6]\n",
      " [ 4  9  9]\n",
      " [ 4 14 12]]\n"
     ]
    }
   ],
   "source": [
    "import numpy as np\n",
    "\n",
    "# RoPE에서 사용할 주기적 회전 변환 함수\n",
    "def apply_rotary_position_embedding(embedding, position, theta):\n",
    "    \"\"\"\n",
    "    임베딩 벡터에 대한 회전 변환을 적용하는 함수\n",
    "    :param embedding: 각 토큰의 임베딩 벡터 (numpy array)\n",
    "    :param position: 토큰의 위치 (p 값)\n",
    "    :param theta: 회전 각도\n",
    "    :return: 회전 변환된 임베딩 벡터\n",
    "    \"\"\"\n",
    "    embedding_rotated = np.zeros_like(embedding)\n",
    "    \n",
    "    cos_theta = np.cos(position * theta)\n",
    "    sin_theta = np.sin(position * theta)\n",
    "    \n",
    "    # 회전 변환 적용: 짝수와 홀수 차원을 쌍으로 묶어 회전\n",
    "    for i in range(0, len(embedding) - 1, 2):\n",
    "        embedding_rotated[i] = cos_theta * embedding[i] - sin_theta * embedding[i + 1]\n",
    "        embedding_rotated[i + 1] = sin_theta * embedding[i] + cos_theta * embedding[i + 1]\n",
    "    \n",
    "    # 홀수 차원이 남으면, 그대로 유지\n",
    "    if len(embedding) % 2 == 1:\n",
    "        embedding_rotated[-1] = embedding[-1]\n",
    "\n",
    "    return embedding_rotated\n",
    "\n",
    "# 예시 토큰 임베딩 벡터 (4개의 토큰, 3차원 임베딩)\n",
    "embeddings = np.array([[1, 2, 3],\n",
    "                       [4, 5, 6],\n",
    "                       [7, 8, 9],\n",
    "                       [10, 11, 12]])\n",
    "\n",
    "# 임베딩 차원 (임베딩 벡터의 길이)와 토큰 수 정의\n",
    "embedding_dim = 3\n",
    "num_tokens = embeddings.shape[0]\n",
    "\n",
    "# 회전 각도를 설정 (임베딩 차원에 따라 각도를 다르게 설정할 수 있음)\n",
    "theta = 0.1  # 예시로 작은 각도 설정\n",
    "\n",
    "# 토큰마다 RoPE 적용\n",
    "rotated_embeddings = []\n",
    "for p in range(1, num_tokens + 1):\n",
    "    rotated_embedding = apply_rotary_position_embedding(embeddings[p-1], p, theta)\n",
    "    rotated_embeddings.append(rotated_embedding)\n",
    "\n",
    "# 결과 출력\n",
    "print(\"원래 임베딩 벡터:\")\n",
    "print(embeddings)\n",
    "print(\"\\nRoPE 적용 후 회전된 임베딩 벡터:\")\n",
    "print(np.array(rotated_embeddings))\n"
   ]
  },
  {
   "cell_type": "code",
   "execution_count": null,
   "metadata": {},
   "outputs": [],
   "source": []
  }
 ],
 "metadata": {
  "kernelspec": {
   "display_name": "cnn-transformer-hybrid-model-fa1p7jlT-py3.11",
   "language": "python",
   "name": "python3"
  },
  "language_info": {
   "codemirror_mode": {
    "name": "ipython",
    "version": 3
   },
   "file_extension": ".py",
   "mimetype": "text/x-python",
   "name": "python",
   "nbconvert_exporter": "python",
   "pygments_lexer": "ipython3",
   "version": "3.11.9"
  }
 },
 "nbformat": 4,
 "nbformat_minor": 2
}
